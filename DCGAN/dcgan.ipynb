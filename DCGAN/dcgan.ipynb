{
 "cells": [
  {
   "cell_type": "markdown",
   "metadata": {},
   "source": [
    "## Importing Libraries"
   ]
  },
  {
   "cell_type": "code",
   "execution_count": 1,
   "metadata": {
    "_cell_guid": "b1076dfc-b9ad-4769-8c92-a6c4dae69d19",
    "_uuid": "8f2839f25d086af736a60e9eeb907d3b93b6e0e5",
    "execution": {
     "iopub.execute_input": "2021-12-25T09:19:26.504918Z",
     "iopub.status.busy": "2021-12-25T09:19:26.502328Z",
     "iopub.status.idle": "2021-12-25T09:19:32.813092Z",
     "shell.execute_reply": "2021-12-25T09:19:32.812215Z",
     "shell.execute_reply.started": "2021-12-25T09:13:50.540461Z"
    },
    "papermill": {
     "duration": 6.328783,
     "end_time": "2021-12-25T09:19:32.813303",
     "exception": false,
     "start_time": "2021-12-25T09:19:26.484520",
     "status": "completed"
    },
    "tags": []
   },
   "outputs": [],
   "source": [
    "# Importing Libraries\n",
    "import numpy as np \n",
    "import pandas as pd \n",
    "import matplotlib.pyplot as plt\n",
    "\n",
    "import tensorflow as tf\n",
    "from tensorflow import keras\n",
    "from tensorflow.keras import Input, layers"
   ]
  },
  {
   "cell_type": "code",
   "execution_count": 2,
   "metadata": {
    "execution": {
     "iopub.execute_input": "2021-12-25T09:19:32.845034Z",
     "iopub.status.busy": "2021-12-25T09:19:32.841958Z",
     "iopub.status.idle": "2021-12-25T09:19:32.847511Z",
     "shell.execute_reply": "2021-12-25T09:19:32.848304Z",
     "shell.execute_reply.started": "2021-12-25T09:17:18.581384Z"
    },
    "papermill": {
     "duration": 0.021494,
     "end_time": "2021-12-25T09:19:32.848506",
     "exception": false,
     "start_time": "2021-12-25T09:19:32.827012",
     "status": "completed"
    },
    "tags": []
   },
   "outputs": [],
   "source": [
    "# Constants\n",
    "batch_size = 128\n",
    "epochs = 50\n",
    "latent_dim = 100\n",
    "\n",
    "images_dir = \"../celeba-dataset/img_align_celeba/img_align_celeba\""
   ]
  },
  {
   "cell_type": "markdown",
   "metadata": {},
   "source": [
    "## Loading Dataset"
   ]
  },
  {
   "cell_type": "code",
   "execution_count": 3,
   "metadata": {
    "execution": {
     "iopub.execute_input": "2021-12-25T09:19:32.878791Z",
     "iopub.status.busy": "2021-12-25T09:19:32.878096Z",
     "iopub.status.idle": "2021-12-25T09:21:56.455338Z",
     "shell.execute_reply": "2021-12-25T09:21:56.454694Z",
     "shell.execute_reply.started": "2021-12-25T05:17:15.204236Z"
    },
    "papermill": {
     "duration": 143.595616,
     "end_time": "2021-12-25T09:21:56.455517",
     "exception": false,
     "start_time": "2021-12-25T09:19:32.859901",
     "status": "completed"
    },
    "tags": []
   },
   "outputs": [
    {
     "name": "stdout",
     "output_type": "stream",
     "text": [
      "Found 202599 files belonging to 1 classes.\n"
     ]
    },
    {
     "name": "stderr",
     "output_type": "stream",
     "text": [
      "2021-12-25 09:21:53.789857: I tensorflow/stream_executor/cuda/cuda_gpu_executor.cc:937] successful NUMA node read from SysFS had negative value (-1), but there must be at least one NUMA node, so returning NUMA node zero\n",
      "2021-12-25 09:21:53.883622: I tensorflow/stream_executor/cuda/cuda_gpu_executor.cc:937] successful NUMA node read from SysFS had negative value (-1), but there must be at least one NUMA node, so returning NUMA node zero\n",
      "2021-12-25 09:21:53.884497: I tensorflow/stream_executor/cuda/cuda_gpu_executor.cc:937] successful NUMA node read from SysFS had negative value (-1), but there must be at least one NUMA node, so returning NUMA node zero\n",
      "2021-12-25 09:21:53.887527: I tensorflow/core/platform/cpu_feature_guard.cc:142] This TensorFlow binary is optimized with oneAPI Deep Neural Network Library (oneDNN) to use the following CPU instructions in performance-critical operations:  AVX2 AVX512F FMA\n",
      "To enable them in other operations, rebuild TensorFlow with the appropriate compiler flags.\n",
      "2021-12-25 09:21:53.888759: I tensorflow/stream_executor/cuda/cuda_gpu_executor.cc:937] successful NUMA node read from SysFS had negative value (-1), but there must be at least one NUMA node, so returning NUMA node zero\n",
      "2021-12-25 09:21:53.889656: I tensorflow/stream_executor/cuda/cuda_gpu_executor.cc:937] successful NUMA node read from SysFS had negative value (-1), but there must be at least one NUMA node, so returning NUMA node zero\n",
      "2021-12-25 09:21:53.890374: I tensorflow/stream_executor/cuda/cuda_gpu_executor.cc:937] successful NUMA node read from SysFS had negative value (-1), but there must be at least one NUMA node, so returning NUMA node zero\n",
      "2021-12-25 09:21:55.922868: I tensorflow/stream_executor/cuda/cuda_gpu_executor.cc:937] successful NUMA node read from SysFS had negative value (-1), but there must be at least one NUMA node, so returning NUMA node zero\n",
      "2021-12-25 09:21:55.923896: I tensorflow/stream_executor/cuda/cuda_gpu_executor.cc:937] successful NUMA node read from SysFS had negative value (-1), but there must be at least one NUMA node, so returning NUMA node zero\n",
      "2021-12-25 09:21:55.924734: I tensorflow/stream_executor/cuda/cuda_gpu_executor.cc:937] successful NUMA node read from SysFS had negative value (-1), but there must be at least one NUMA node, so returning NUMA node zero\n",
      "2021-12-25 09:21:55.925434: I tensorflow/core/common_runtime/gpu/gpu_device.cc:1510] Created device /job:localhost/replica:0/task:0/device:GPU:0 with 15403 MB memory:  -> device: 0, name: Tesla P100-PCIE-16GB, pci bus id: 0000:00:04.0, compute capability: 6.0\n"
     ]
    }
   ],
   "source": [
    "# Loading dataset\n",
    "dataset = keras.utils.image_dataset_from_directory(images_dir, \n",
    "                                                   labels = None,\n",
    "                                                   batch_size = batch_size,\n",
    "                                                   shuffle = True,\n",
    "                                                   image_size = (64,64))\n",
    "\n",
    "dataset = dataset.map(lambda x : x / 255.0)"
   ]
  },
  {
   "cell_type": "code",
   "execution_count": 4,
   "metadata": {
    "execution": {
     "iopub.execute_input": "2021-12-25T09:21:56.484454Z",
     "iopub.status.busy": "2021-12-25T09:21:56.483623Z",
     "iopub.status.idle": "2021-12-25T09:22:00.242511Z",
     "shell.execute_reply": "2021-12-25T09:22:00.243796Z",
     "shell.execute_reply.started": "2021-12-25T05:18:35.071221Z"
    },
    "papermill": {
     "duration": 3.777355,
     "end_time": "2021-12-25T09:22:00.244194",
     "exception": false,
     "start_time": "2021-12-25T09:21:56.466839",
     "status": "completed"
    },
    "tags": []
   },
   "outputs": [
    {
     "name": "stderr",
     "output_type": "stream",
     "text": [
      "2021-12-25 09:21:56.517446: I tensorflow/compiler/mlir/mlir_graph_optimization_pass.cc:185] None of the MLIR Optimization Passes are enabled (registered 2)\n"
     ]
    },
    {
     "data": {
      "image/png": "[encoded data removed]",
      "text/plain": [
       "<Figure size 144x144 with 1 Axes>"
      ]
     },
     "metadata": {
      "needs_background": "light"
     },
     "output_type": "display_data"
    }
   ],
   "source": [
    "# Showing random image\n",
    "for x in dataset:\n",
    "    plt.figure(figsize = (2,2))\n",
    "    plt.axis(\"off\")\n",
    "    plt.imshow((x.numpy() * 255).astype(\"int32\")[0])\n",
    "    break"
   ]
  },
  {
   "cell_type": "markdown",
   "metadata": {},
   "source": [
    "## Defining Model"
   ]
  },
  {
   "cell_type": "code",
   "execution_count": 5,
   "metadata": {
    "execution": {
     "iopub.execute_input": "2021-12-25T09:22:00.304458Z",
     "iopub.status.busy": "2021-12-25T09:22:00.303186Z",
     "iopub.status.idle": "2021-12-25T09:22:00.484042Z",
     "shell.execute_reply": "2021-12-25T09:22:00.484713Z",
     "shell.execute_reply.started": "2021-12-25T09:17:23.088518Z"
    },
    "papermill": {
     "duration": 0.21567,
     "end_time": "2021-12-25T09:22:00.484933",
     "exception": false,
     "start_time": "2021-12-25T09:22:00.269263",
     "status": "completed"
    },
    "tags": []
   },
   "outputs": [
    {
     "name": "stdout",
     "output_type": "stream",
     "text": [
      "Model: \"Discriminator\"\n",
      "_________________________________________________________________\n",
      "Layer (type)                 Output Shape              Param #   \n",
      "=================================================================\n",
      "conv2d (Conv2D)              (None, 32, 32, 64)        3136      \n",
      "_________________________________________________________________\n",
      "batch_normalization (BatchNo (None, 32, 32, 64)        256       \n",
      "_________________________________________________________________\n",
      "leaky_re_lu (LeakyReLU)      (None, 32, 32, 64)        0         \n",
      "_________________________________________________________________\n",
      "conv2d_1 (Conv2D)            (None, 16, 16, 128)       131200    \n",
      "_________________________________________________________________\n",
      "batch_normalization_1 (Batch (None, 16, 16, 128)       512       \n",
      "_________________________________________________________________\n",
      "leaky_re_lu_1 (LeakyReLU)    (None, 16, 16, 128)       0         \n",
      "_________________________________________________________________\n",
      "conv2d_2 (Conv2D)            (None, 8, 8, 256)         524544    \n",
      "_________________________________________________________________\n",
      "batch_normalization_2 (Batch (None, 8, 8, 256)         1024      \n",
      "_________________________________________________________________\n",
      "leaky_re_lu_2 (LeakyReLU)    (None, 8, 8, 256)         0         \n",
      "_________________________________________________________________\n",
      "conv2d_3 (Conv2D)            (None, 4, 4, 512)         2097664   \n",
      "_________________________________________________________________\n",
      "batch_normalization_3 (Batch (None, 4, 4, 512)         2048      \n",
      "_________________________________________________________________\n",
      "leaky_re_lu_3 (LeakyReLU)    (None, 4, 4, 512)         0         \n",
      "_________________________________________________________________\n",
      "flatten (Flatten)            (None, 8192)              0         \n",
      "_________________________________________________________________\n",
      "dense (Dense)                (None, 1)                 8193      \n",
      "=================================================================\n",
      "Total params: 2,768,577\n",
      "Trainable params: 2,766,657\n",
      "Non-trainable params: 1,920\n",
      "_________________________________________________________________\n"
     ]
    }
   ],
   "source": [
    "# Defining Discriminator model\n",
    "discriminator = keras.Sequential(\n",
    "    [\n",
    "        Input(shape=(64, 64,3)),\n",
    "        layers.Conv2D(64, kernel_size = 4, strides = 2, padding = \"same\"),\n",
    "        layers.BatchNormalization(),\n",
    "        layers.LeakyReLU(alpha = 0.2),\n",
    "        layers.Conv2D(128, kernel_size = 4, strides = 2, padding = \"same\"),\n",
    "        layers.BatchNormalization(),\n",
    "        layers.LeakyReLU(alpha = 0.2),\n",
    "        layers.Conv2D(256, kernel_size = 4, strides = 2, padding = \"same\"),\n",
    "        layers.BatchNormalization(),\n",
    "        layers.LeakyReLU(alpha = 0.2),\n",
    "        layers.Conv2D(512, kernel_size = 4, strides = 2, padding = \"same\"),\n",
    "        layers.BatchNormalization(),\n",
    "        layers.LeakyReLU(alpha = 0.2),\n",
    "        layers.Flatten(),\n",
    "        layers.Dense(1)\n",
    "    ],\n",
    "    name = \"Discriminator\",\n",
    ")\n",
    "\n",
    "discriminator.summary()"
   ]
  },
  {
   "cell_type": "code",
   "execution_count": 6,
   "metadata": {
    "execution": {
     "iopub.execute_input": "2021-12-25T09:22:00.539048Z",
     "iopub.status.busy": "2021-12-25T09:22:00.528169Z",
     "iopub.status.idle": "2021-12-25T09:22:00.681123Z",
     "shell.execute_reply": "2021-12-25T09:22:00.680390Z",
     "shell.execute_reply.started": "2021-12-25T09:17:29.634271Z"
    },
    "papermill": {
     "duration": 0.183461,
     "end_time": "2021-12-25T09:22:00.681321",
     "exception": false,
     "start_time": "2021-12-25T09:22:00.497860",
     "status": "completed"
    },
    "tags": []
   },
   "outputs": [
    {
     "name": "stdout",
     "output_type": "stream",
     "text": [
      "Model: \"generator\"\n",
      "_________________________________________________________________\n",
      "Layer (type)                 Output Shape              Param #   \n",
      "=================================================================\n",
      "dense_1 (Dense)              (None, 8192)              827392    \n",
      "_________________________________________________________________\n",
      "batch_normalization_4 (Batch (None, 8192)              32768     \n",
      "_________________________________________________________________\n",
      "re_lu (ReLU)                 (None, 8192)              0         \n",
      "_________________________________________________________________\n",
      "reshape (Reshape)            (None, 4, 4, 512)         0         \n",
      "_________________________________________________________________\n",
      "conv2d_transpose (Conv2DTran (None, 8, 8, 256)         2097152   \n",
      "_________________________________________________________________\n",
      "batch_normalization_5 (Batch (None, 8, 8, 256)         1024      \n",
      "_________________________________________________________________\n",
      "re_lu_1 (ReLU)               (None, 8, 8, 256)         0         \n",
      "_________________________________________________________________\n",
      "conv2d_transpose_1 (Conv2DTr (None, 16, 16, 128)       524288    \n",
      "_________________________________________________________________\n",
      "batch_normalization_6 (Batch (None, 16, 16, 128)       512       \n",
      "_________________________________________________________________\n",
      "re_lu_2 (ReLU)               (None, 16, 16, 128)       0         \n",
      "_________________________________________________________________\n",
      "conv2d_transpose_2 (Conv2DTr (None, 32, 32, 64)        131072    \n",
      "_________________________________________________________________\n",
      "batch_normalization_7 (Batch (None, 32, 32, 64)        256       \n",
      "_________________________________________________________________\n",
      "re_lu_3 (ReLU)               (None, 32, 32, 64)        0         \n",
      "_________________________________________________________________\n",
      "conv2d_transpose_3 (Conv2DTr (None, 64, 64, 3)         3072      \n",
      "=================================================================\n",
      "Total params: 3,617,536\n",
      "Trainable params: 3,600,256\n",
      "Non-trainable params: 17,280\n",
      "_________________________________________________________________\n"
     ]
    }
   ],
   "source": [
    "# Defining Generator model\n",
    "generator = keras.Sequential(\n",
    "    [\n",
    "        Input(shape=(latent_dim, )),\n",
    "        layers.Dense(4 * 4 * 512),\n",
    "        layers.BatchNormalization(),\n",
    "        layers.ReLU(),\n",
    "        layers.Reshape((4, 4, 512)),\n",
    "        layers.Conv2DTranspose(256, kernel_size = 4, strides = 2, padding = \"same\", use_bias = False),\n",
    "        layers.BatchNormalization(),\n",
    "        layers.ReLU(),\n",
    "        layers.Conv2DTranspose(128, kernel_size = 4, strides = 2, padding = \"same\", use_bias = False),\n",
    "        layers.BatchNormalization(),\n",
    "        layers.ReLU(),\n",
    "        layers.Conv2DTranspose(64, kernel_size = 4, strides = 2, padding = \"same\", use_bias = False),\n",
    "        layers.BatchNormalization(),\n",
    "        layers.ReLU(),\n",
    "        layers.Conv2DTranspose(3, kernel_size = 4, strides = 2, padding = \"same\", use_bias = False, activation = \"tanh\")\n",
    "    ],\n",
    "    name = \"generator\"\n",
    ")\n",
    "\n",
    "generator.summary()"
   ]
  },
  {
   "cell_type": "code",
   "execution_count": 7,
   "metadata": {
    "execution": {
     "iopub.execute_input": "2021-12-25T09:22:00.732262Z",
     "iopub.status.busy": "2021-12-25T09:22:00.731216Z",
     "iopub.status.idle": "2021-12-25T09:22:00.734883Z",
     "shell.execute_reply": "2021-12-25T09:22:00.734257Z",
     "shell.execute_reply.started": "2021-12-25T09:17:57.319074Z"
    },
    "papermill": {
     "duration": 0.039946,
     "end_time": "2021-12-25T09:22:00.735045",
     "exception": false,
     "start_time": "2021-12-25T09:22:00.695099",
     "status": "completed"
    },
    "tags": []
   },
   "outputs": [],
   "source": [
    "# Defining GAN model\n",
    "class GAN(keras.Model):\n",
    "    def __init__(self, discriminator, generator, latent_dim):\n",
    "        super(GAN, self).__init__()\n",
    "        self.discriminator = discriminator\n",
    "        self.generator = generator\n",
    "        self.latent_dim = latent_dim\n",
    "    \n",
    "    def compile(self, d_optimizer, g_optimizer, loss_fn):\n",
    "        super(GAN, self).compile()\n",
    "        self.d_optimizer = d_optimizer\n",
    "        self.g_optimizer = g_optimizer\n",
    "        self.loss_fn = loss_fn\n",
    "        self.d_real_loss_metric = keras.metrics.Mean(name=\"d_real_loss\")\n",
    "        self.d_fake_loss_metric = keras.metrics.Mean(name=\"d_fake_loss\")\n",
    "        self.g_loss_metric = keras.metrics.Mean(name=\"g_loss\")\n",
    "    \n",
    "    @property\n",
    "    def metrics(self):\n",
    "        return [self.d_real_loss_metric, self.d_fake_loss_metric, self.g_loss_metric]\n",
    "    \n",
    "    def train_step(self, real_images):\n",
    "        batch_size = tf.shape(real_images)[0]\n",
    "        random_latent_vector = tf.random.normal(shape=(batch_size, self.latent_dim))\n",
    "        \n",
    "        # Training Discriminator on fake image\n",
    "        generated_images = self.generator(random_latent_vector)\n",
    "        generated_labels = tf.zeros((batch_size, 1))\n",
    "        \n",
    "        with tf.GradientTape() as disc_fake_tape:\n",
    "            predictions = self.discriminator(generated_images)\n",
    "            d_fake_loss = self.loss_fn(generated_labels, predictions)\n",
    "        grads = disc_fake_tape.gradient(d_fake_loss, self.discriminator.trainable_weights)\n",
    "        self.d_optimizer.apply_gradients(\n",
    "                zip(grads, self.discriminator.trainable_weights)\n",
    "        )\n",
    "        \n",
    "        # Training Discriminator on real image\n",
    "        labels = tf.ones((batch_size, 1))\n",
    "        \n",
    "        with tf.GradientTape() as disc_real_tape:\n",
    "            predictions = self.discriminator(real_images)\n",
    "            d_real_loss = self.loss_fn(labels, predictions)\n",
    "        grads = disc_real_tape.gradient(d_real_loss, self.discriminator.trainable_weights)\n",
    "        self.d_optimizer.apply_gradients(\n",
    "                zip(grads, self.discriminator.trainable_weights)\n",
    "        )\n",
    "        \n",
    "        # Training Generator\n",
    "        random_latent_vectors = tf.random.normal(shape=(batch_size, self.latent_dim))\n",
    "        misleading_labels = tf.ones((batch_size, 1))\n",
    "\n",
    "        with tf.GradientTape() as gen_tape:\n",
    "            predictions = self.discriminator(self.generator(random_latent_vectors))\n",
    "            g_loss = self.loss_fn(misleading_labels, predictions)\n",
    "        grads = gen_tape.gradient(g_loss, self.generator.trainable_weights)\n",
    "        self.g_optimizer.apply_gradients(zip(grads, self.generator.trainable_weights))\n",
    "        \n",
    "        # Updating loss\n",
    "        self.d_real_loss_metric.update_state(d_real_loss)\n",
    "        self.d_fake_loss_metric.update_state(d_fake_loss)\n",
    "        self.g_loss_metric.update_state(g_loss)\n",
    "        return {\n",
    "            \"d_real_loss\": self.d_real_loss_metric.result(),\n",
    "            \"d_fake_loss\": self.d_fake_loss_metric.result(),\n",
    "            \"g_loss\": self.g_loss_metric.result(),\n",
    "        }"
   ]
  },
  {
   "cell_type": "code",
   "execution_count": 8,
   "metadata": {
    "execution": {
     "iopub.execute_input": "2021-12-25T09:22:00.773025Z",
     "iopub.status.busy": "2021-12-25T09:22:00.771885Z",
     "iopub.status.idle": "2021-12-25T09:22:00.776844Z",
     "shell.execute_reply": "2021-12-25T09:22:00.776304Z",
     "shell.execute_reply.started": "2021-12-25T09:17:58.977759Z"
    },
    "papermill": {
     "duration": 0.027711,
     "end_time": "2021-12-25T09:22:00.776982",
     "exception": false,
     "start_time": "2021-12-25T09:22:00.749271",
     "status": "completed"
    },
    "tags": []
   },
   "outputs": [],
   "source": [
    "# Class for saving images on epoch end\n",
    "class GANMonitor(keras.callbacks.Callback):\n",
    "    def __init__(self, num_img = 10, latent_dim = 100):\n",
    "        self.num_img = num_img\n",
    "        self.latent_dim = latent_dim\n",
    "    \n",
    "    def on_epoch_end(self, epoch, logs = None):\n",
    "        random_latent_vectors = tf.random.normal(shape=(self.num_img, self.latent_dim))\n",
    "        generated_images = self.model.generator(random_latent_vectors)\n",
    "        generated_images *= 255\n",
    "        generated_images.numpy()\n",
    "        for i in range(self.num_img):\n",
    "            img = keras.preprocessing.image.array_to_img(generated_images[i])\n",
    "            img.save(\"generated_img_{}_{}.png\".format(epoch, i))"
   ]
  },
  {
   "cell_type": "markdown",
   "metadata": {},
   "source": [
    "## Training Model & Saving Weights"
   ]
  },
  {
   "cell_type": "code",
   "execution_count": 9,
   "metadata": {
    "execution": {
     "iopub.execute_input": "2021-12-25T09:22:00.814507Z",
     "iopub.status.busy": "2021-12-25T09:22:00.813359Z",
     "iopub.status.idle": "2021-12-25T12:41:41.643695Z",
     "shell.execute_reply": "2021-12-25T12:41:41.644090Z",
     "shell.execute_reply.started": "2021-12-25T09:18:36.339938Z"
    },
    "papermill": {
     "duration": 11980.854392,
     "end_time": "2021-12-25T12:41:41.644261",
     "exception": false,
     "start_time": "2021-12-25T09:22:00.789869",
     "status": "completed"
    },
    "tags": []
   },
   "outputs": [
    {
     "name": "stdout",
     "output_type": "stream",
     "text": [
      "Epoch 1/50\n"
     ]
    },
    {
     "name": "stderr",
     "output_type": "stream",
     "text": [
      "2021-12-25 09:22:05.917474: I tensorflow/stream_executor/cuda/cuda_dnn.cc:369] Loaded cuDNN version 8005\n"
     ]
    },
    {
     "name": "stdout",
     "output_type": "stream",
     "text": [
      "1583/1583 [==============================] - 544s 338ms/step - d_real_loss: 0.6220 - d_fake_loss: 0.6068 - g_loss: 1.0879\n",
      "Epoch 2/50\n",
      "1583/1583 [==============================] - 199s 125ms/step - d_real_loss: 0.6138 - d_fake_loss: 0.5767 - g_loss: 1.1301\n",
      "Epoch 3/50\n",
      "1583/1583 [==============================] - 205s 129ms/step - d_real_loss: 0.6317 - d_fake_loss: 0.5987 - g_loss: 0.9957\n",
      "Epoch 4/50\n",
      "1583/1583 [==============================] - 215s 135ms/step - d_real_loss: 0.6449 - d_fake_loss: 0.6185 - g_loss: 0.9771\n",
      "Epoch 5/50\n",
      "1583/1583 [==============================] - 224s 141ms/step - d_real_loss: 0.6272 - d_fake_loss: 0.5917 - g_loss: 0.9873\n",
      "Epoch 6/50\n",
      "1583/1583 [==============================] - 201s 126ms/step - d_real_loss: 0.6105 - d_fake_loss: 0.5693 - g_loss: 1.0640\n",
      "Epoch 7/50\n",
      "1583/1583 [==============================] - 220s 138ms/step - d_real_loss: 0.6181 - d_fake_loss: 0.5729 - g_loss: 1.1188\n",
      "Epoch 8/50\n",
      "1583/1583 [==============================] - 222s 140ms/step - d_real_loss: 0.5665 - d_fake_loss: 0.5109 - g_loss: 1.2179\n",
      "Epoch 9/50\n",
      "1583/1583 [==============================] - 196s 123ms/step - d_real_loss: 0.5640 - d_fake_loss: 0.5219 - g_loss: 1.2697\n",
      "Epoch 10/50\n",
      "1583/1583 [==============================] - 215s 135ms/step - d_real_loss: 0.5443 - d_fake_loss: 0.4841 - g_loss: 1.3744\n",
      "Epoch 11/50\n",
      "1583/1583 [==============================] - 220s 138ms/step - d_real_loss: 0.5243 - d_fake_loss: 0.4774 - g_loss: 1.4674\n",
      "Epoch 12/50\n",
      "1583/1583 [==============================] - 181s 114ms/step - d_real_loss: 0.5007 - d_fake_loss: 0.4586 - g_loss: 1.5632\n",
      "Epoch 13/50\n",
      "1583/1583 [==============================] - 214s 134ms/step - d_real_loss: 0.4753 - d_fake_loss: 0.4031 - g_loss: 1.6971\n",
      "Epoch 14/50\n",
      "1583/1583 [==============================] - 224s 141ms/step - d_real_loss: 0.5149 - d_fake_loss: 0.5150 - g_loss: 1.6447\n",
      "Epoch 15/50\n",
      "1583/1583 [==============================] - 201s 126ms/step - d_real_loss: 0.4468 - d_fake_loss: 0.3773 - g_loss: 1.8326\n",
      "Epoch 16/50\n",
      "1583/1583 [==============================] - 212s 133ms/step - d_real_loss: 0.4826 - d_fake_loss: 0.4171 - g_loss: 1.8155\n",
      "Epoch 17/50\n",
      "1583/1583 [==============================] - 221s 139ms/step - d_real_loss: 0.5067 - d_fake_loss: 0.4974 - g_loss: 1.7586\n",
      "Epoch 18/50\n",
      "1583/1583 [==============================] - 211s 132ms/step - d_real_loss: 0.4243 - d_fake_loss: 0.3613 - g_loss: 1.9639\n",
      "Epoch 19/50\n",
      "1583/1583 [==============================] - 202s 127ms/step - d_real_loss: 0.4523 - d_fake_loss: 0.4035 - g_loss: 2.0554\n",
      "Epoch 20/50\n",
      "1583/1583 [==============================] - 223s 140ms/step - d_real_loss: 0.3963 - d_fake_loss: 0.3418 - g_loss: 2.0834\n",
      "Epoch 21/50\n",
      "1583/1583 [==============================] - 212s 133ms/step - d_real_loss: 0.4117 - d_fake_loss: 0.4255 - g_loss: 2.1169\n",
      "Epoch 22/50\n",
      "1583/1583 [==============================] - 198s 125ms/step - d_real_loss: 0.3786 - d_fake_loss: 0.3292 - g_loss: 2.2476\n",
      "Epoch 23/50\n",
      "1583/1583 [==============================] - 219s 138ms/step - d_real_loss: 0.3728 - d_fake_loss: 0.3263 - g_loss: 2.3341\n",
      "Epoch 24/50\n",
      "1583/1583 [==============================] - 220s 138ms/step - d_real_loss: 0.4817 - d_fake_loss: 0.4944 - g_loss: 2.1170\n",
      "Epoch 25/50\n",
      "1583/1583 [==============================] - 209s 132ms/step - d_real_loss: 0.4397 - d_fake_loss: 0.4162 - g_loss: 2.2620\n",
      "Epoch 26/50\n",
      "1583/1583 [==============================] - 220s 139ms/step - d_real_loss: 0.3478 - d_fake_loss: 0.3074 - g_loss: 2.3582\n",
      "Epoch 27/50\n",
      "1583/1583 [==============================] - 219s 138ms/step - d_real_loss: 0.3758 - d_fake_loss: 0.3659 - g_loss: 2.3270\n",
      "Epoch 28/50\n",
      "1583/1583 [==============================] - 205s 128ms/step - d_real_loss: 0.4034 - d_fake_loss: 0.3716 - g_loss: 2.3051\n",
      "Epoch 29/50\n",
      "1583/1583 [==============================] - 221s 139ms/step - d_real_loss: 0.3456 - d_fake_loss: 0.3123 - g_loss: 2.4733\n",
      "Epoch 30/50\n",
      "1583/1583 [==============================] - 212s 133ms/step - d_real_loss: 0.3399 - d_fake_loss: 0.3094 - g_loss: 2.5458\n",
      "Epoch 31/50\n",
      "1583/1583 [==============================] - 213s 134ms/step - d_real_loss: 0.3307 - d_fake_loss: 0.3032 - g_loss: 2.6161\n",
      "Epoch 32/50\n",
      "1583/1583 [==============================] - 224s 141ms/step - d_real_loss: 0.4471 - d_fake_loss: 0.4460 - g_loss: 2.4158\n",
      "Epoch 33/50\n",
      "1583/1583 [==============================] - 204s 128ms/step - d_real_loss: 0.3399 - d_fake_loss: 0.3642 - g_loss: 2.6060\n",
      "Epoch 34/50\n",
      "1583/1583 [==============================] - 225s 142ms/step - d_real_loss: 0.3123 - d_fake_loss: 0.2900 - g_loss: 2.6032\n",
      "Epoch 35/50\n",
      "1583/1583 [==============================] - 225s 141ms/step - d_real_loss: 0.6375 - d_fake_loss: 0.5240 - g_loss: 2.2262\n",
      "Epoch 36/50\n",
      "1583/1583 [==============================] - 206s 129ms/step - d_real_loss: 0.3065 - d_fake_loss: 0.2839 - g_loss: 2.6431\n",
      "Epoch 37/50\n",
      "1583/1583 [==============================] - 224s 141ms/step - d_real_loss: 0.3761 - d_fake_loss: 0.4158 - g_loss: 2.4748\n",
      "Epoch 38/50\n",
      "1583/1583 [==============================] - 213s 134ms/step - d_real_loss: 0.3069 - d_fake_loss: 0.2876 - g_loss: 2.6648\n",
      "Epoch 39/50\n",
      "1583/1583 [==============================] - 212s 133ms/step - d_real_loss: 0.3487 - d_fake_loss: 0.4294 - g_loss: 2.5293\n",
      "Epoch 40/50\n",
      "1583/1583 [==============================] - 221s 139ms/step - d_real_loss: 0.3086 - d_fake_loss: 0.2920 - g_loss: 2.7045\n",
      "Epoch 41/50\n",
      "1583/1583 [==============================] - 199s 125ms/step - d_real_loss: 0.3376 - d_fake_loss: 0.3938 - g_loss: 2.5652\n",
      "Epoch 42/50\n",
      "1583/1583 [==============================] - 219s 138ms/step - d_real_loss: 0.3735 - d_fake_loss: 0.3810 - g_loss: 2.5551\n",
      "Epoch 43/50\n",
      "1583/1583 [==============================] - 226s 142ms/step - d_real_loss: 0.2953 - d_fake_loss: 0.2820 - g_loss: 2.7220\n",
      "Epoch 44/50\n",
      "1583/1583 [==============================] - 206s 129ms/step - d_real_loss: 0.4819 - d_fake_loss: 0.3838 - g_loss: 2.4868\n",
      "Epoch 45/50\n",
      "1583/1583 [==============================] - 203s 127ms/step - d_real_loss: 0.2885 - d_fake_loss: 0.2738 - g_loss: 2.7448\n",
      "Epoch 46/50\n",
      "1583/1583 [==============================] - 192s 121ms/step - d_real_loss: 0.3203 - d_fake_loss: 0.3922 - g_loss: 2.6564\n",
      "Epoch 47/50\n",
      "1583/1583 [==============================] - 198s 124ms/step - d_real_loss: 0.2882 - d_fake_loss: 0.2788 - g_loss: 2.7913\n",
      "Epoch 48/50\n",
      "1583/1583 [==============================] - 199s 125ms/step - d_real_loss: 0.3966 - d_fake_loss: 0.4964 - g_loss: 2.6376\n",
      "Epoch 49/50\n",
      "1583/1583 [==============================] - 198s 125ms/step - d_real_loss: 0.2864 - d_fake_loss: 0.2761 - g_loss: 2.6563\n",
      "Epoch 50/50\n",
      "1583/1583 [==============================] - 194s 122ms/step - d_real_loss: 0.3188 - d_fake_loss: 0.3868 - g_loss: 2.6809\n"
     ]
    },
    {
     "data": {
      "text/plain": [
       "<keras.callbacks.History at 0x7f90f8965810>"
      ]
     },
     "execution_count": 9,
     "metadata": {},
     "output_type": "execute_result"
    }
   ],
   "source": [
    "# Compiling and training model\n",
    "gan = GAN(discriminator, generator, latent_dim)\n",
    "gan.compile(\n",
    "    d_optimizer = keras.optimizers.Adam(learning_rate = 0.0002, beta_1 = 0.2),\n",
    "    g_optimizer = keras.optimizers.Adam(learning_rate = 0.0002, beta_1 = 0.2),\n",
    "    loss_fn = keras.losses.BinaryCrossentropy(from_logits = True, label_smoothing = 0.1)\n",
    ")\n",
    "\n",
    "gan.fit(dataset, epochs = epochs, callbacks=[GANMonitor(10, latent_dim)])"
   ]
  },
  {
   "cell_type": "code",
   "execution_count": 10,
   "metadata": {
    "execution": {
     "iopub.execute_input": "2021-12-25T12:42:26.118952Z",
     "iopub.status.busy": "2021-12-25T12:42:26.118385Z",
     "iopub.status.idle": "2021-12-25T12:42:26.252554Z",
     "shell.execute_reply": "2021-12-25T12:42:26.252091Z",
     "shell.execute_reply.started": "2021-12-25T09:18:03.423670Z"
    },
    "papermill": {
     "duration": 22.503491,
     "end_time": "2021-12-25T12:42:26.252723",
     "exception": false,
     "start_time": "2021-12-25T12:42:03.749232",
     "status": "completed"
    },
    "tags": []
   },
   "outputs": [],
   "source": [
    "# Saving weights\n",
    "gan.save_weights(\"gan.h5\")\n",
    "generator.save_weights(\"generator.h5\")\n",
    "discriminator.save_weights(\"discriminator.h5\")"
   ]
  }
 ],
 "metadata": {
  "kernelspec": {
   "display_name": "Python 3",
   "language": "python",
   "name": "python3"
  },
  "language_info": {
   "codemirror_mode": {
    "name": "ipython",
    "version": 3
   },
   "file_extension": ".py",
   "mimetype": "text/x-python",
   "name": "python",
   "nbconvert_exporter": "python",
   "pygments_lexer": "ipython3",
   "version": "3.7.6"
  },
  "papermill": {
   "default_parameters": {},
   "duration": 12215.974825,
   "end_time": "2021-12-25T12:42:51.350843",
   "environment_variables": {},
   "exception": null,
   "input_path": "__notebook__.ipynb",
   "output_path": "__notebook__.ipynb",
   "parameters": {},
   "start_time": "2021-12-25T09:19:15.376018",
   "version": "2.3.3"
  }
 },
 "nbformat": 4,
 "nbformat_minor": 5
}
